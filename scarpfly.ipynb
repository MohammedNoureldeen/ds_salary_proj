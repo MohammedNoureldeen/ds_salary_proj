{
 "cells": [
  {
   "cell_type": "code",
   "execution_count": 10,
   "metadata": {},
   "outputs": [
    {
     "ename": "LookupError",
     "evalue": "unknown encoding: 'b'utf8''",
     "output_type": "error",
     "traceback": [
      "\u001b[1;31m---------------------------------------------------------------------------\u001b[0m",
      "\u001b[1;31mLookupError\u001b[0m                               Traceback (most recent call last)",
      "Cell \u001b[1;32mIn[10], line 10\u001b[0m\n\u001b[0;32m      8\u001b[0m \u001b[38;5;66;03m# Ensure correct encoding\u001b[39;00m\n\u001b[0;32m      9\u001b[0m response_text \u001b[38;5;241m=\u001b[39m response\u001b[38;5;241m.\u001b[39mcontent\u001b[38;5;241m.\u001b[39mdecode(\u001b[38;5;124m\"\u001b[39m\u001b[38;5;124mutf-8\u001b[39m\u001b[38;5;124m\"\u001b[39m, errors\u001b[38;5;241m=\u001b[39m\u001b[38;5;124m\"\u001b[39m\u001b[38;5;124mignore\u001b[39m\u001b[38;5;124m\"\u001b[39m)  \u001b[38;5;66;03m# Ignores bad characters\u001b[39;00m\n\u001b[1;32m---> 10\u001b[0m selector \u001b[38;5;241m=\u001b[39m Selector(response_text)\n\u001b[0;32m     12\u001b[0m selector \u001b[38;5;241m=\u001b[39m Selector(response\u001b[38;5;241m.\u001b[39mtext)\n\u001b[0;32m     14\u001b[0m \u001b[38;5;66;03m# Find description in the HTML:\u001b[39;00m\n",
      "File \u001b[1;32mc:\\ProgramData\\anaconda3\\Lib\\site-packages\\parsel\\selector.py:496\u001b[0m, in \u001b[0;36mSelector.__init__\u001b[1;34m(self, text, type, body, encoding, namespaces, root, base_url, _expr, huge_tree)\u001b[0m\n\u001b[0;32m    493\u001b[0m     msg \u001b[38;5;241m=\u001b[39m \u001b[38;5;124mf\u001b[39m\u001b[38;5;124m\"\u001b[39m\u001b[38;5;124mtext argument should be of type str, got \u001b[39m\u001b[38;5;132;01m{\u001b[39;00mtext\u001b[38;5;241m.\u001b[39m\u001b[38;5;18m__class__\u001b[39m\u001b[38;5;132;01m}\u001b[39;00m\u001b[38;5;124m\"\u001b[39m\n\u001b[0;32m    494\u001b[0m     \u001b[38;5;28;01mraise\u001b[39;00m \u001b[38;5;167;01mTypeError\u001b[39;00m(msg)\n\u001b[1;32m--> 496\u001b[0m root, \u001b[38;5;28mtype\u001b[39m \u001b[38;5;241m=\u001b[39m _get_root_and_type_from_text(\n\u001b[0;32m    497\u001b[0m     text,\n\u001b[0;32m    498\u001b[0m     input_type\u001b[38;5;241m=\u001b[39m\u001b[38;5;28mtype\u001b[39m,\n\u001b[0;32m    499\u001b[0m     base_url\u001b[38;5;241m=\u001b[39mbase_url,\n\u001b[0;32m    500\u001b[0m     huge_tree\u001b[38;5;241m=\u001b[39mhuge_tree,\n\u001b[0;32m    501\u001b[0m )\n\u001b[0;32m    502\u001b[0m \u001b[38;5;28mself\u001b[39m\u001b[38;5;241m.\u001b[39mroot \u001b[38;5;241m=\u001b[39m root\n\u001b[0;32m    503\u001b[0m \u001b[38;5;28mself\u001b[39m\u001b[38;5;241m.\u001b[39mtype \u001b[38;5;241m=\u001b[39m \u001b[38;5;28mtype\u001b[39m\n",
      "File \u001b[1;32mc:\\ProgramData\\anaconda3\\Lib\\site-packages\\parsel\\selector.py:377\u001b[0m, in \u001b[0;36m_get_root_and_type_from_text\u001b[1;34m(text, input_type, **lxml_kwargs)\u001b[0m\n\u001b[0;32m    375\u001b[0m \u001b[38;5;28;01massert\u001b[39;00m input_type \u001b[38;5;129;01min\u001b[39;00m (\u001b[38;5;124m\"\u001b[39m\u001b[38;5;124mhtml\u001b[39m\u001b[38;5;124m\"\u001b[39m, \u001b[38;5;124m\"\u001b[39m\u001b[38;5;124mxml\u001b[39m\u001b[38;5;124m\"\u001b[39m, \u001b[38;5;28;01mNone\u001b[39;00m)  \u001b[38;5;66;03m# nosec\u001b[39;00m\n\u001b[0;32m    376\u001b[0m \u001b[38;5;28mtype\u001b[39m \u001b[38;5;241m=\u001b[39m _xml_or_html(input_type)\n\u001b[1;32m--> 377\u001b[0m root \u001b[38;5;241m=\u001b[39m _get_root_from_text(text, \u001b[38;5;28mtype\u001b[39m\u001b[38;5;241m=\u001b[39m\u001b[38;5;28mtype\u001b[39m, \u001b[38;5;241m*\u001b[39m\u001b[38;5;241m*\u001b[39mlxml_kwargs)\n\u001b[0;32m    378\u001b[0m \u001b[38;5;28;01mreturn\u001b[39;00m root, \u001b[38;5;28mtype\u001b[39m\n",
      "File \u001b[1;32mc:\\ProgramData\\anaconda3\\Lib\\site-packages\\parsel\\selector.py:329\u001b[0m, in \u001b[0;36m_get_root_from_text\u001b[1;34m(text, type, **lxml_kwargs)\u001b[0m\n\u001b[0;32m    326\u001b[0m \u001b[38;5;28;01mdef\u001b[39;00m \u001b[38;5;21m_get_root_from_text\u001b[39m(\n\u001b[0;32m    327\u001b[0m     text: \u001b[38;5;28mstr\u001b[39m, \u001b[38;5;241m*\u001b[39m, \u001b[38;5;28mtype\u001b[39m: \u001b[38;5;28mstr\u001b[39m, \u001b[38;5;241m*\u001b[39m\u001b[38;5;241m*\u001b[39mlxml_kwargs: Any\n\u001b[0;32m    328\u001b[0m ) \u001b[38;5;241m-\u001b[39m\u001b[38;5;241m>\u001b[39m etree\u001b[38;5;241m.\u001b[39m_Element:\n\u001b[1;32m--> 329\u001b[0m     \u001b[38;5;28;01mreturn\u001b[39;00m create_root_node(text, _ctgroup[\u001b[38;5;28mtype\u001b[39m][\u001b[38;5;124m\"\u001b[39m\u001b[38;5;124m_parser\u001b[39m\u001b[38;5;124m\"\u001b[39m], \u001b[38;5;241m*\u001b[39m\u001b[38;5;241m*\u001b[39mlxml_kwargs)\n",
      "File \u001b[1;32mc:\\ProgramData\\anaconda3\\Lib\\site-packages\\parsel\\selector.py:110\u001b[0m, in \u001b[0;36mcreate_root_node\u001b[1;34m(text, parser_cls, base_url, huge_tree, body, encoding)\u001b[0m\n\u001b[0;32m    107\u001b[0m     body \u001b[38;5;241m=\u001b[39m text\u001b[38;5;241m.\u001b[39mstrip()\u001b[38;5;241m.\u001b[39mreplace(\u001b[38;5;124m\"\u001b[39m\u001b[38;5;130;01m\\x00\u001b[39;00m\u001b[38;5;124m\"\u001b[39m, \u001b[38;5;124m\"\u001b[39m\u001b[38;5;124m\"\u001b[39m)\u001b[38;5;241m.\u001b[39mencode(encoding) \u001b[38;5;129;01mor\u001b[39;00m \u001b[38;5;124mb\u001b[39m\u001b[38;5;124m\"\u001b[39m\u001b[38;5;124m<html/>\u001b[39m\u001b[38;5;124m\"\u001b[39m\n\u001b[0;32m    109\u001b[0m \u001b[38;5;28;01mif\u001b[39;00m huge_tree \u001b[38;5;129;01mand\u001b[39;00m LXML_SUPPORTS_HUGE_TREE:\n\u001b[1;32m--> 110\u001b[0m     parser \u001b[38;5;241m=\u001b[39m parser_cls(recover\u001b[38;5;241m=\u001b[39m\u001b[38;5;28;01mTrue\u001b[39;00m, encoding\u001b[38;5;241m=\u001b[39mencoding, huge_tree\u001b[38;5;241m=\u001b[39m\u001b[38;5;28;01mTrue\u001b[39;00m)\n\u001b[0;32m    111\u001b[0m     root \u001b[38;5;241m=\u001b[39m etree\u001b[38;5;241m.\u001b[39mfromstring(body, parser\u001b[38;5;241m=\u001b[39mparser, base_url\u001b[38;5;241m=\u001b[39mbase_url)\n\u001b[0;32m    112\u001b[0m \u001b[38;5;28;01melse\u001b[39;00m:\n",
      "File \u001b[1;32mc:\\ProgramData\\anaconda3\\Lib\\site-packages\\lxml\\html\\__init__.py:1887\u001b[0m, in \u001b[0;36mHTMLParser.__init__\u001b[1;34m(self, **kwargs)\u001b[0m\n\u001b[0;32m   1886\u001b[0m \u001b[38;5;28;01mdef\u001b[39;00m \u001b[38;5;21m__init__\u001b[39m(\u001b[38;5;28mself\u001b[39m, \u001b[38;5;241m*\u001b[39m\u001b[38;5;241m*\u001b[39mkwargs):\n\u001b[1;32m-> 1887\u001b[0m     \u001b[38;5;28msuper\u001b[39m()\u001b[38;5;241m.\u001b[39m\u001b[38;5;21m__init__\u001b[39m(\u001b[38;5;241m*\u001b[39m\u001b[38;5;241m*\u001b[39mkwargs)\n\u001b[0;32m   1888\u001b[0m     \u001b[38;5;28mself\u001b[39m\u001b[38;5;241m.\u001b[39mset_element_class_lookup(HtmlElementClassLookup())\n",
      "File \u001b[1;32msrc\\\\lxml\\\\parser.pxi:1806\u001b[0m, in \u001b[0;36mlxml.etree.HTMLParser.__init__\u001b[1;34m()\u001b[0m\n",
      "File \u001b[1;32msrc\\\\lxml\\\\parser.pxi:858\u001b[0m, in \u001b[0;36mlxml.etree._BaseParser.__init__\u001b[1;34m()\u001b[0m\n",
      "\u001b[1;31mLookupError\u001b[0m: unknown encoding: 'b'utf8''"
     ]
    }
   ],
   "source": [
    "import httpx\n",
    "from parsel import Selector\n",
    "\n",
    "response = httpx.get(\n",
    "    \"https://www.glassdoor.com/Overview/Working-at-eBay-EI_IE7853.11,15.htm\"\n",
    ")\n",
    "\n",
    "# Ensure correct encoding\n",
    "response_text = response.content.decode(\"utf-8\", errors=\"ignore\")  # Ignores bad characters\n",
    "selector = Selector(response_text)\n",
    "\n",
    "selector = Selector(response.text)\n",
    "\n",
    "# Find description in the HTML:\n",
    "print(selector.css('[data-test=\"employerDescription\"]::text').get())\n"
   ]
  },
  {
   "cell_type": "markdown",
   "metadata": {},
   "source": []
  },
  {
   "cell_type": "code",
   "execution_count": 17,
   "metadata": {},
   "outputs": [
    {
     "name": "stdout",
     "output_type": "stream",
     "text": [
      "^C\n",
      "Note: you may need to restart the kernel to use updated packages.\n"
     ]
    }
   ],
   "source": [
    "pip uninstall parsel "
   ]
  },
  {
   "cell_type": "code",
   "execution_count": null,
   "metadata": {},
   "outputs": [],
   "source": []
  }
 ],
 "metadata": {
  "kernelspec": {
   "display_name": "base",
   "language": "python",
   "name": "python3"
  },
  "language_info": {
   "codemirror_mode": {
    "name": "ipython",
    "version": 3
   },
   "file_extension": ".py",
   "mimetype": "text/x-python",
   "name": "python",
   "nbconvert_exporter": "python",
   "pygments_lexer": "ipython3",
   "version": "3.12.7"
  }
 },
 "nbformat": 4,
 "nbformat_minor": 2
}
